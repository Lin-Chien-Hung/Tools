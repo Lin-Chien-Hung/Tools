{
 "cells": [
  {
   "cell_type": "code",
   "execution_count": 1,
   "id": "cae2495a-2bbf-48fd-ace4-f64d5f436d79",
   "metadata": {
    "tags": []
   },
   "outputs": [
    {
     "name": "stderr",
     "output_type": "stream",
     "text": [
      "/opt/conda/lib/python3.7/site-packages/pyroomacoustics/room.py:1269: UserWarning: Using absorption parameter is deprecated. In the future, use materials instead.\n",
      "  \"Using absorption parameter is deprecated. In the future, use materials instead.\"\n"
     ]
    },
    {
     "name": "stdout",
     "output_type": "stream",
     "text": [
      "The measured RT60 is 0.33599999999999997\n"
     ]
    },
    {
     "data": {
      "image/png": "[encoded data removed]",
      "text/plain": [
       "<Figure size 432x288 with 1 Axes>"
      ]
     },
     "metadata": {
      "needs_background": "light"
     },
     "output_type": "display_data"
    }
   ],
   "source": [
    "import numpy as np\n",
    "import matplotlib.pyplot as plt\n",
    "import pyroomacoustics as pra\n",
    "from scipy.io import wavfile\n",
    "\n",
    "#=========================================================================================\n",
    "# 音檔位置生成\n",
    "def get_voice_position(x):\n",
    "    voice_radius = np.random.uniform(low=1.0, high=6.0)\n",
    "    voice_theta = np.random.uniform(low=0, high=2 * np.pi)\n",
    "    voice_loc = [\n",
    "        voice_radius * np.cos(voice_theta),\n",
    "        voice_radius * np.sin(voice_theta)\n",
    "    ]\n",
    "    return voice_loc\n",
    "#=========================================================================================\n",
    "# 創建房間\n",
    "left_wall = np.random.uniform(low=-20, high=-15)\n",
    "right_wall = np.random.uniform(low=15, high=20)\n",
    "top_wall = np.random.uniform(low=15, high=20)\n",
    "bottom_wall = np.random.uniform(low=-20, high=-15)\n",
    "absorption = np.random.uniform(low=0.1, high=0.99)\n",
    "\n",
    "corners = np.array([[left_wall, bottom_wall], [left_wall, top_wall],\n",
    "                    [   right_wall, top_wall], [right_wall, bottom_wall]]).T\n",
    "\n",
    "room = pra.Room.from_corners(corners,\n",
    "        fs=16000,\n",
    "        max_order=10,\n",
    "        absorption=absorption)\n",
    "#=========================================================================================\n",
    "# 音檔讀取\n",
    "fs, audio1 = wavfile.read(\"./samples/1.wav\")\n",
    "fs, audio2 = wavfile.read(\"./samples/2.wav\")\n",
    "fs, audio3 = wavfile.read(\"./samples/3.wav\")\n",
    "fs, audio4 = wavfile.read(\"./samples/4.wav\")\n",
    "#=========================================================================================\n",
    "# 音檔輸入\n",
    "room.add_source(get_voice_position(1), signal=audio1)\n",
    "room.add_source(get_voice_position(2), signal=audio2)\n",
    "room.add_source(get_voice_position(3), signal=audio3)\n",
    "room.add_source(get_voice_position(4), signal=audio4)\n",
    "#=========================================================================================\n",
    "# 創建麥克風\n",
    "R = pra.circular_2D_array(center=[0., 0.], M=4, phi0=0, radius=.03231)\n",
    "room.add_microphone_array(pra.MicrophoneArray(R, 16000))\n",
    "\n",
    "room.simulate()\n",
    "#=========================================================================================\n",
    "# 存檔的位置\n",
    "room.mic_array.to_wav(\n",
    "    f\"/workspace/Cone-of-Silence/test.wav\",\n",
    "    norm=True,\n",
    "    bitdepth=np.int16,\n",
    ")\n",
    "#=========================================================================================\n",
    "# 評量方式\n",
    "rt60 = room.measure_rt60()\n",
    "print(\"The measured RT60 is {}\".format(rt60[1, 0]))\n",
    "#=========================================================================================\n",
    "# 畫出房間的圖\n",
    "fig, ax = room.plot()\n",
    "plt.grid()\n",
    "plt.show()"
   ]
  },
  {
   "cell_type": "code",
   "execution_count": null,
   "id": "7a425c78-1712-4681-8919-62ffb8bf85bf",
   "metadata": {},
   "outputs": [],
   "source": []
  }
 ],
 "metadata": {
  "kernelspec": {
   "display_name": "Python 3 (ipykernel)",
   "language": "python",
   "name": "python3"
  },
  "language_info": {
   "codemirror_mode": {
    "name": "ipython",
    "version": 3
   },
   "file_extension": ".py",
   "mimetype": "text/x-python",
   "name": "python",
   "nbconvert_exporter": "python",
   "pygments_lexer": "ipython3",
   "version": "3.7.13"
  }
 },
 "nbformat": 4,
 "nbformat_minor": 5
}
