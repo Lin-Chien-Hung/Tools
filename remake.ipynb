{
 "cells": [
  {
   "cell_type": "code",
   "execution_count": 1,
   "id": "38a2185d-3b09-488f-8a1e-155b5cb5fb27",
   "metadata": {
    "tags": []
   },
   "outputs": [],
   "source": [
    "import glob\n",
    "import os\n",
    "import subprocess\n",
    "import shutil\n",
    "from tqdm import tqdm "
   ]
  },
  {
   "cell_type": "code",
   "execution_count": 2,
   "id": "6c424bbb-fe29-402f-b6b4-6616cf25af45",
   "metadata": {
    "tags": []
   },
   "outputs": [
    {
     "name": "stderr",
     "output_type": "stream",
     "text": [
      "100%|█████████████████████████████████████████████████████████████████████████████████████████████████████████████████████████████████████████████████████████████████| 1166/1166 [00:09<00:00, 118.06it/s]\n"
     ]
    }
   ],
   "source": [
    "for path in tqdm(glob.glob(os.path.join(\"train-other-500\", \"*\"))):\n",
    "    \n",
    "    for path_1 in glob.glob(os.path.join(path, \"*\")):\n",
    "        \n",
    "        for path_2 in glob.glob(os.path.join(path_1, \"*.flac\")):\n",
    "            \n",
    "            #print(path_2)\n",
    "            shutil.move(os.path.join(path_2), path)\n",
    "            \n",
    "        shutil.rmtree(path_1)"
   ]
  }
 ],
 "metadata": {
  "kernelspec": {
   "display_name": "Python 3 (ipykernel)",
   "language": "python",
   "name": "python3"
  },
  "language_info": {
   "codemirror_mode": {
    "name": "ipython",
    "version": 3
   },
   "file_extension": ".py",
   "mimetype": "text/x-python",
   "name": "python",
   "nbconvert_exporter": "python",
   "pygments_lexer": "ipython3",
   "version": "3.7.13"
  }
 },
 "nbformat": 4,
 "nbformat_minor": 5
}
